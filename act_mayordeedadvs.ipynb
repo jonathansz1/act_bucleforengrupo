{
 "cells": [
  {
   "cell_type": "code",
   "execution_count": 2,
   "metadata": {},
   "outputs": [
    {
     "name": "stdout",
     "output_type": "stream",
     "text": [
      "NO eres mayor de edad\n"
     ]
    }
   ],
   "source": [
    "edad=int(input(\"Por favor, escriba su edad en números enteros \"))\n",
    "if edad>=18:\n",
    "    print(\"Eres mayor de edad\")\n",
    "elif edad<18:\n",
    "    print(\"NO eres mayor de edad\")"
   ]
  },
  {
   "cell_type": "code",
   "execution_count": null,
   "metadata": {},
   "outputs": [],
   "source": []
  }
 ],
 "metadata": {
  "kernelspec": {
   "display_name": "Python 3.9.12 ('base')",
   "language": "python",
   "name": "python3"
  },
  "language_info": {
   "codemirror_mode": {
    "name": "ipython",
    "version": 3
   },
   "file_extension": ".py",
   "mimetype": "text/x-python",
   "name": "python",
   "nbconvert_exporter": "python",
   "pygments_lexer": "ipython3",
   "version": "3.9.12"
  },
  "orig_nbformat": 4,
  "vscode": {
   "interpreter": {
    "hash": "5966a91fbea02de6ac2de1f68badbc165b8b97242372971730d048d969922e15"
   }
  }
 },
 "nbformat": 4,
 "nbformat_minor": 2
}
