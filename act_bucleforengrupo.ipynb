{
 "cells": [
  {
   "cell_type": "code",
   "execution_count": 2,
   "metadata": {},
   "outputs": [
    {
     "name": "stdout",
     "output_type": "stream",
     "text": [
      "Miguel 18\n",
      "Edwin 23\n",
      "Erick 28\n",
      "Pedro 16\n",
      "Pau 25\n",
      "Liliana 20\n",
      "Marco 25\n",
      "Claudia 21\n",
      "Rolando 25\n",
      "Gerardo 9\n",
      "Jonathan 15\n",
      "Paco 13\n",
      "Yolanda 4\n",
      "Julio 28\n",
      "Victor 3\n",
      "Gustavo 8\n",
      "Paulina 25\n"
     ]
    }
   ],
   "source": [
    "diccionario={\"Miguel\":18,\"Edwin\":23,\"Erick\":28,\"Pedro\":16,\"Pau\":25,\"Liliana\":20,\"Marco\":25,\"Claudia\":21,\"Rolando\":25,\"Gerardo\":9,\"Jonathan\":15,\"Paco\":13,\"Yolanda\":4,\"Julio\":28,\"Victor\":3,\"Gustavo\":8,\"Paulina\":25}\n",
    "for k,v in diccionario.items():\n",
    "    print(k,v)"
   ]
  },
  {
   "cell_type": "code",
   "execution_count": 3,
   "metadata": {},
   "outputs": [
    {
     "name": "stdout",
     "output_type": "stream",
     "text": [
      "El valor mínimo es: 3\n",
      "El valor máximo es: 28\n"
     ]
    }
   ],
   "source": [
    "numeros=diccionario.values()\n",
    "numeros_lista=list(numeros)\n",
    "minimo=min(numeros_lista)\n",
    "maximo=max(numeros_lista)\n",
    "print(\"El valor mínimo es:\",minimo)\n",
    "print(\"El valor máximo es:\",maximo)"
   ]
  }
 ],
 "metadata": {
  "kernelspec": {
   "display_name": "Python 3.6.13 ('python_fundamentals')",
   "language": "python",
   "name": "python3"
  },
  "language_info": {
   "codemirror_mode": {
    "name": "ipython",
    "version": 3
   },
   "file_extension": ".py",
   "mimetype": "text/x-python",
   "name": "python",
   "nbconvert_exporter": "python",
   "pygments_lexer": "ipython3",
   "version": "3.6.13"
  },
  "orig_nbformat": 4,
  "vscode": {
   "interpreter": {
    "hash": "602e81f1fc20b9d83015157eccc25d9328edb1b85a6e3eaaf2e3d011ebad2a9f"
   }
  }
 },
 "nbformat": 4,
 "nbformat_minor": 2
}
